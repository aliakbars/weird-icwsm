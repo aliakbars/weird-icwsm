{
 "cells": [
  {
   "cell_type": "code",
   "execution_count": 1,
   "metadata": {},
   "outputs": [],
   "source": [
    "import matplotlib.pyplot as plt\n",
    "import numpy as np\n",
    "import pandas as pd\n",
    "import polars as pl\n",
    "import seaborn as sns"
   ]
  },
  {
   "cell_type": "code",
   "execution_count": 2,
   "metadata": {},
   "outputs": [],
   "source": [
    "from glob import glob"
   ]
  },
  {
   "cell_type": "code",
   "execution_count": 3,
   "metadata": {},
   "outputs": [
    {
     "data": {
      "text/plain": [
       "(87, 137)"
      ]
     },
     "execution_count": 3,
     "metadata": {},
     "output_type": "execute_result"
    }
   ],
   "source": [
    "import sqlite3\n",
    "\n",
    "conn = sqlite3.connect('datasets/icwsm-full-5.db')\n",
    "df = pd.read_sql(\"\"\"\n",
    "select * from hitsbase\n",
    "\"\"\", conn)\n",
    "df.shape"
   ]
  },
  {
   "cell_type": "code",
   "execution_count": 4,
   "metadata": {},
   "outputs": [],
   "source": [
    "nb_participants = []\n",
    "p_countries = []\n",
    "for i in range(2, 6):\n",
    "    nb_participants.append(\n",
    "        df[[\n",
    "            f'nb_participants_{i}_1',\n",
    "            f'nb_participants_{i}_2',\n",
    "            f'nb_participants_{i}_3',\n",
    "            f'nb_participants_{i}_4',\n",
    "            f'nb_participants_{i}_5',\n",
    "        ]].apply(list, axis=1).apply(lambda x: list(filter(None, x)))\n",
    "    )\n",
    "    p_countries.append(\n",
    "        df[[\n",
    "            f'participant_country_{i}_1',\n",
    "            f'participant_country_{i}_2',\n",
    "            f'participant_country_{i}_3',\n",
    "            f'participant_country_{i}_4',\n",
    "            f'participant_country_{i}_5',\n",
    "        ]].apply(list, axis=1).apply(lambda x: list(filter(None, x)))\n",
    "    )\n",
    "\n",
    "nb_participants = pd.concat(nb_participants, ignore_index=True)\n",
    "p_countries = pd.concat(p_countries, ignore_index=True)"
   ]
  },
  {
   "cell_type": "code",
   "execution_count": 5,
   "metadata": {},
   "outputs": [],
   "source": [
    "datasets = df[[\n",
    "    'dataset_name_2',\n",
    "    'dataset_name_3',\n",
    "    'dataset_name_5',\n",
    "    'dataset_name_4',\n",
    "]].melt().value\n",
    "\n",
    "papers = df[[\n",
    "    'paper_url_2',\n",
    "    'paper_url_3',\n",
    "    'paper_url_5',\n",
    "    'paper_url_4',\n",
    "]].melt().value"
   ]
  },
  {
   "cell_type": "code",
   "execution_count": 6,
   "metadata": {},
   "outputs": [],
   "source": [
    "data = pd.DataFrame({\n",
    "    'paper_url': papers,\n",
    "    'datasets': datasets,\n",
    "    'countries': p_countries,\n",
    "    'nb_participants': nb_participants,\n",
    "})"
   ]
  },
  {
   "cell_type": "code",
   "execution_count": 7,
   "metadata": {},
   "outputs": [
    {
     "data": {
      "text/plain": [
       "1"
      ]
     },
     "execution_count": 7,
     "metadata": {},
     "output_type": "execute_result"
    }
   ],
   "source": [
    "data['datasets'].str.lower().str.contains('telegram').sum()"
   ]
  },
  {
   "cell_type": "code",
   "execution_count": 8,
   "metadata": {},
   "outputs": [],
   "source": [
    "platforms = glob('datasets/demographics/*.csv')\n",
    "platforms = pd.Series(platforms).str.split('/').str[-1].str.replace('.csv', '').tolist()"
   ]
  },
  {
   "cell_type": "code",
   "execution_count": 9,
   "metadata": {},
   "outputs": [],
   "source": [
    "results = pd.DataFrame()\n",
    "discarded = []\n",
    "for _, paper in data.drop_duplicates('paper_url').iterrows():\n",
    "    if len(paper['countries']) == 1:\n",
    "        # Only one country\n",
    "        if paper['countries'] != ['N/A']:\n",
    "            # One known country\n",
    "            results = pd.concat([\n",
    "                results,\n",
    "                pd.DataFrame([{\n",
    "                    'paper_id': paper['paper_url'],\n",
    "                    'country_code': paper['countries'][0],\n",
    "                    'nb_records': 1,\n",
    "                }])\n",
    "            ], ignore_index=True)\n",
    "        else:\n",
    "            # Unknown countries\n",
    "            if paper['datasets'] is None:\n",
    "                continue\n",
    "\n",
    "            paper_dataset = paper['datasets'].lower()\n",
    "            paper_id = paper['paper_url']\n",
    "            if paper_dataset in platforms:\n",
    "                # Only one dataset\n",
    "                platform = paper_dataset\n",
    "                demo = pd.read_csv(f\"datasets/demographics/{platform}.csv\")\n",
    "                demo['nb_records'] = demo['nb_users'] / demo['nb_users'].sum()\n",
    "\n",
    "                demo.insert(0, 'paper_id', paper_id)\n",
    "                results = pd.concat([\n",
    "                    results,\n",
    "                    demo[['paper_id', 'country_code', 'nb_records']]\n",
    "                ], ignore_index=True)\n",
    "            else:\n",
    "                # Multiple datasets\n",
    "                dataset_list = paper_dataset.split(', ')\n",
    "                temp = []\n",
    "                for d in dataset_list:\n",
    "                    if d in platforms:\n",
    "                        demo = pd.read_csv(f\"datasets/demographics/{d}.csv\")\n",
    "                        demo['nb_records'] = demo['nb_users'] / demo['nb_users'].sum()\n",
    "                        demo = demo.assign(platform=d)\n",
    "                        temp.append(demo)\n",
    "\n",
    "                if temp != []:\n",
    "                    # Averaging values across datasets\n",
    "                    temp = pd.concat(temp).pivot_table(\n",
    "                        index='platform',\n",
    "                        columns='country_code',\n",
    "                        values='nb_records',\n",
    "                        fill_value=0\n",
    "                    ).mean(axis=0).reset_index()\n",
    "                    temp.columns = ['country_code', 'nb_records']\n",
    "                    temp.insert(0, 'paper_id', paper_id)\n",
    "                    results = pd.concat([\n",
    "                        results,\n",
    "                        temp[['paper_id', 'country_code', 'nb_records']]\n",
    "                    ], ignore_index=True)\n",
    "                else:\n",
    "                    if _ == 63:\n",
    "                        print(\"X\")\n",
    "                    discarded.append(paper)\n",
    "    elif len(set(paper['countries'])) == 1:\n",
    "        # Multiple datasets, one known country\n",
    "        if set(paper['countries']) != {'N/A'}:\n",
    "            results = pd.concat([\n",
    "                results,\n",
    "                pd.DataFrame([{\n",
    "                    'paper_id': paper['paper_url'],\n",
    "                    'country_code': paper['countries'][0],\n",
    "                    'nb_records': 1,\n",
    "                }])\n",
    "            ], ignore_index=True)\n",
    "        else:\n",
    "            # All unknown countries\n",
    "            # Multiple datasets\n",
    "            paper_dataset = paper['datasets'].lower()\n",
    "            paper_id = paper['paper_url']\n",
    "            dataset_list = paper_dataset.strip().split(', ')\n",
    "            temp = []\n",
    "            for d in dataset_list:\n",
    "                if d in platforms:\n",
    "                    demo = pd.read_csv(f\"datasets/demographics/{d}.csv\")\n",
    "                    demo['nb_records'] = demo['nb_users'] / demo['nb_users'].sum()\n",
    "                    demo = demo.assign(platform=d)\n",
    "                    temp.append(demo)\n",
    "\n",
    "            if temp != []:\n",
    "                # Averaging values across datasets\n",
    "                temp = pd.concat(temp).pivot_table(\n",
    "                    index='platform',\n",
    "                    columns='country_code',\n",
    "                    values='nb_records',\n",
    "                    fill_value=0\n",
    "                ).mean(axis=0).reset_index()\n",
    "                temp.columns = ['country_code', 'nb_records']\n",
    "                temp.insert(0, 'paper_id', paper_id)\n",
    "                results = pd.concat([\n",
    "                    results,\n",
    "                    temp[['paper_id', 'country_code', 'nb_records']]\n",
    "                ], ignore_index=True)\n",
    "    elif 'N/A' not in paper['countries']:\n",
    "        # All known countries\n",
    "        rep = pd.Series(paper['nb_participants']).dropna().values\n",
    "        rep /= rep.sum()\n",
    "        results = pd.concat([\n",
    "            results,\n",
    "            pd.DataFrame({\n",
    "                'paper_id': paper['paper_url'],\n",
    "                'country_code': paper['countries'],\n",
    "                'nb_records': rep,\n",
    "            })\n",
    "        ], ignore_index=True)\n",
    "    else:\n",
    "        # TODO Double check this assumption\n",
    "        rep = pd.Series(paper['nb_participants']).dropna().values\n",
    "        rep /= rep.sum()\n",
    "        results = pd.concat([\n",
    "            results,\n",
    "            pd.DataFrame({\n",
    "                'paper_id': paper['paper_url'],\n",
    "                'country_code': paper['countries'],\n",
    "                'nb_records': rep,\n",
    "            })\n",
    "        ], ignore_index=True)"
   ]
  },
  {
   "cell_type": "code",
   "execution_count": 12,
   "metadata": {},
   "outputs": [],
   "source": [
    "results.to_csv('datasets/icwsm-full-normalized-v2.csv', index=False)"
   ]
  },
  {
   "cell_type": "code",
   "execution_count": 10,
   "metadata": {},
   "outputs": [
    {
     "data": {
      "text/plain": [
       "302"
      ]
     },
     "execution_count": 10,
     "metadata": {},
     "output_type": "execute_result"
    }
   ],
   "source": [
    "results['paper_id'].nunique()"
   ]
  },
  {
   "cell_type": "code",
   "execution_count": 11,
   "metadata": {},
   "outputs": [
    {
     "data": {
      "text/html": [
       "<style type=\"text/css\">\n",
       "</style>\n",
       "<table id=\"T_b007b\">\n",
       "  <thead>\n",
       "    <tr>\n",
       "      <th class=\"blank level0\" >&nbsp;</th>\n",
       "      <th id=\"T_b007b_level0_col0\" class=\"col_heading level0 col0\" >nb_records</th>\n",
       "    </tr>\n",
       "    <tr>\n",
       "      <th class=\"index_name level0\" >country_code</th>\n",
       "      <th class=\"blank col0\" >&nbsp;</th>\n",
       "    </tr>\n",
       "  </thead>\n",
       "  <tbody>\n",
       "    <tr>\n",
       "      <th id=\"T_b007b_level0_row0\" class=\"row_heading level0 row0\" >USA</th>\n",
       "      <td id=\"T_b007b_row0_col0\" class=\"data row0 col0\" >137.25</td>\n",
       "    </tr>\n",
       "    <tr>\n",
       "      <th id=\"T_b007b_level0_row1\" class=\"row_heading level0 row1\" >IND</th>\n",
       "      <td id=\"T_b007b_row1_col0\" class=\"data row1 col0\" >15.41</td>\n",
       "    </tr>\n",
       "    <tr>\n",
       "      <th id=\"T_b007b_level0_row2\" class=\"row_heading level0 row2\" >JPN</th>\n",
       "      <td id=\"T_b007b_row2_col0\" class=\"data row2 col0\" >14.92</td>\n",
       "    </tr>\n",
       "    <tr>\n",
       "      <th id=\"T_b007b_level0_row3\" class=\"row_heading level0 row3\" >GBR</th>\n",
       "      <td id=\"T_b007b_row3_col0\" class=\"data row3 col0\" >13.08</td>\n",
       "    </tr>\n",
       "    <tr>\n",
       "      <th id=\"T_b007b_level0_row4\" class=\"row_heading level0 row4\" >CHN</th>\n",
       "      <td id=\"T_b007b_row4_col0\" class=\"data row4 col0\" >10.88</td>\n",
       "    </tr>\n",
       "    <tr>\n",
       "      <th id=\"T_b007b_level0_row5\" class=\"row_heading level0 row5\" >N/A</th>\n",
       "      <td id=\"T_b007b_row5_col0\" class=\"data row5 col0\" >9.33</td>\n",
       "    </tr>\n",
       "    <tr>\n",
       "      <th id=\"T_b007b_level0_row6\" class=\"row_heading level0 row6\" >BRA</th>\n",
       "      <td id=\"T_b007b_row6_col0\" class=\"data row6 col0\" >9.33</td>\n",
       "    </tr>\n",
       "    <tr>\n",
       "      <th id=\"T_b007b_level0_row7\" class=\"row_heading level0 row7\" >DEU</th>\n",
       "      <td id=\"T_b007b_row7_col0\" class=\"data row7 col0\" >6.90</td>\n",
       "    </tr>\n",
       "    <tr>\n",
       "      <th id=\"T_b007b_level0_row8\" class=\"row_heading level0 row8\" >IDN</th>\n",
       "      <td id=\"T_b007b_row8_col0\" class=\"data row8 col0\" >6.58</td>\n",
       "    </tr>\n",
       "    <tr>\n",
       "      <th id=\"T_b007b_level0_row9\" class=\"row_heading level0 row9\" >ITA</th>\n",
       "      <td id=\"T_b007b_row9_col0\" class=\"data row9 col0\" >6.35</td>\n",
       "    </tr>\n",
       "  </tbody>\n",
       "</table>\n"
      ],
      "text/plain": [
       "<pandas.io.formats.style.Styler at 0x11b83ff40>"
      ]
     },
     "execution_count": 11,
     "metadata": {},
     "output_type": "execute_result"
    }
   ],
   "source": [
    "results.groupby('country_code').agg({'nb_records': 'sum'}).nlargest(10, 'nb_records').style.format('{:.2f}')"
   ]
  }
 ],
 "metadata": {
  "kernelspec": {
   "display_name": "base",
   "language": "python",
   "name": "python3"
  },
  "language_info": {
   "codemirror_mode": {
    "name": "ipython",
    "version": 3
   },
   "file_extension": ".py",
   "mimetype": "text/x-python",
   "name": "python",
   "nbconvert_exporter": "python",
   "pygments_lexer": "ipython3",
   "version": "3.10.6"
  }
 },
 "nbformat": 4,
 "nbformat_minor": 2
}
