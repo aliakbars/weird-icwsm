{
 "cells": [
  {
   "attachments": {},
   "cell_type": "markdown",
   "metadata": {},
   "source": [
    "---\n",
    "title: \"How WEIRD is ICWSM?\"\n",
    "---"
   ]
  },
  {
   "cell_type": "code",
   "execution_count": 1,
   "metadata": {},
   "outputs": [],
   "source": [
    "import matplotlib.pyplot as plt\n",
    "import numpy as np\n",
    "import pandas as pd\n",
    "import seaborn as sns"
   ]
  },
  {
   "cell_type": "code",
   "execution_count": 2,
   "metadata": {},
   "outputs": [],
   "source": [
    "plt.rcParams['axes.spines.top'] = False\n",
    "plt.rcParams['axes.spines.right'] = False\n",
    "plt.rcParams['figure.dpi'] = 150"
   ]
  },
  {
   "cell_type": "code",
   "execution_count": 3,
   "metadata": {},
   "outputs": [],
   "source": [
    "plt.rcParams['font.family'] = ['Linux Libertine O']"
   ]
  },
  {
   "attachments": {},
   "cell_type": "markdown",
   "metadata": {},
   "source": [
    "# Loading Data & Metrics"
   ]
  },
  {
   "cell_type": "code",
   "execution_count": 4,
   "metadata": {},
   "outputs": [],
   "source": [
    "df = pd.concat([\n",
    "    pd.read_csv('datasets/icwsm-full-normalized-v2.csv').assign(paper_type='full'),\n",
    "    pd.read_csv('datasets/icwsm-rest-normalized-v2.csv').assign(paper_type='rest'),\n",
    "], ignore_index=True)"
   ]
  },
  {
   "cell_type": "code",
   "execution_count": 5,
   "metadata": {},
   "outputs": [
    {
     "data": {
      "text/plain": [
       "420"
      ]
     },
     "execution_count": 5,
     "metadata": {},
     "output_type": "execute_result"
    }
   ],
   "source": [
    "df['paper_id'].nunique()"
   ]
  },
  {
   "cell_type": "code",
   "execution_count": 369,
   "metadata": {},
   "outputs": [
    {
     "name": "stderr",
     "output_type": "stream",
     "text": [
      "/var/folders/0d/380dd3_d27v3p6p6m6nb230h0000gn/T/ipykernel_89504/2025423398.py:7: DtypeWarning: Columns (2,3,4,7) have mixed types. Specify dtype option on import or set low_memory=False.\n",
      "  population = pd.read_csv('datasets/population.csv').query('Time == 2020')\n"
     ]
    }
   ],
   "source": [
    "cip = pd.read_csv('datasets/cip.csv', encoding_errors='ignore')\n",
    "democratic = pd.read_csv('datasets/democratic.csv')\n",
    "edu = pd.read_csv('datasets/edu.csv')\n",
    "gdp = pd.read_csv('datasets/gdp.csv')\n",
    "gni = pd.read_csv('datasets/gni.csv')\n",
    "western = pd.read_csv('datasets/western.csv')\n",
    "population = pd.read_csv('datasets/population.csv').query('Time == 2020')\n",
    "internet = pd.read_csv('datasets/internet.csv')"
   ]
  },
  {
   "cell_type": "code",
   "execution_count": 372,
   "metadata": {},
   "outputs": [],
   "source": [
    "cip['countrydesc'] = (\n",
    "    cip.countrydesc\n",
    "    .replace(\"Cte d'Ivoire\", \"Côte d'Ivoire\")\n",
    "    .replace(\"China, Taiwan Province\", \"China, Taiwan Province of China\")\n",
    "    .replace(\"Lao People's Dem Rep\", \"Lao People's Democratic Republic\")\n",
    "    .replace(\"Turkey\", \"Türkiye\")\n",
    ")"
   ]
  },
  {
   "cell_type": "code",
   "execution_count": 373,
   "metadata": {},
   "outputs": [],
   "source": [
    "cip_gdp = cip[['countrydesc', 'cip', 'year']].query('year == 2020').merge(\n",
    "    (\n",
    "        gdp[['Country Name', 'Country Code', '2020']]\n",
    "        .replace('Korea, Rep.', 'Republic of Korea')\n",
    "        .replace('United States', 'United States of America')\n",
    "        .replace('Turkiye', 'Turkey')\n",
    "        .replace('Viet Nam', 'Vietnam')\n",
    "        .replace('Iran, Islamic Rep.', 'Iran (Islamic Republic of)')\n",
    "        .replace('Egypt, Arab Rep.', 'Egypt')\n",
    "    ),\n",
    "    how='left',\n",
    "    left_on='countrydesc',\n",
    "    right_on='Country Name'\n",
    ")"
   ]
  },
  {
   "cell_type": "code",
   "execution_count": 374,
   "metadata": {},
   "outputs": [],
   "source": [
    "TOTAL_POPULATION = population[population['ISO3_code'].notna()]['PopTotal'].sum()"
   ]
  },
  {
   "attachments": {},
   "cell_type": "markdown",
   "metadata": {},
   "source": [
    "# Preliminary Analysis"
   ]
  },
  {
   "cell_type": "code",
   "execution_count": 335,
   "metadata": {},
   "outputs": [],
   "source": [
    "data = df.copy()"
   ]
  },
  {
   "cell_type": "code",
   "execution_count": 336,
   "metadata": {},
   "outputs": [
    {
     "name": "stdout",
     "output_type": "stream",
     "text": [
      "Number of analyzed papers: 420\n"
     ]
    }
   ],
   "source": [
    "print(f\"Number of analyzed papers: {data['paper_id'].nunique()}\")"
   ]
  },
  {
   "cell_type": "code",
   "execution_count": 383,
   "metadata": {},
   "outputs": [
    {
     "data": {
      "text/html": [
       "<div>\n",
       "<style scoped>\n",
       "    .dataframe tbody tr th:only-of-type {\n",
       "        vertical-align: middle;\n",
       "    }\n",
       "\n",
       "    .dataframe tbody tr th {\n",
       "        vertical-align: top;\n",
       "    }\n",
       "\n",
       "    .dataframe thead th {\n",
       "        text-align: right;\n",
       "    }\n",
       "</style>\n",
       "<table border=\"1\" class=\"dataframe\">\n",
       "  <thead>\n",
       "    <tr style=\"text-align: right;\">\n",
       "      <th></th>\n",
       "      <th>cip</th>\n",
       "      <th>2020</th>\n",
       "    </tr>\n",
       "  </thead>\n",
       "  <tbody>\n",
       "    <tr>\n",
       "      <th>cip</th>\n",
       "      <td>1.000000</td>\n",
       "      <td>0.711921</td>\n",
       "    </tr>\n",
       "    <tr>\n",
       "      <th>2020</th>\n",
       "      <td>0.711921</td>\n",
       "      <td>1.000000</td>\n",
       "    </tr>\n",
       "  </tbody>\n",
       "</table>\n",
       "</div>"
      ],
      "text/plain": [
       "           cip      2020\n",
       "cip   1.000000  0.711921\n",
       "2020  0.711921  1.000000"
      ]
     },
     "execution_count": 383,
     "metadata": {},
     "output_type": "execute_result"
    }
   ],
   "source": [
    "indust = cip.query('year == 2020')[['countrydesc','cip']].assign(cip=cip.query('year == 2020')['cip'].apply(np.log).replace(-np.inf, np.nan))\n",
    "indust.merge(\n",
    "    internet[['Country Name', '2020']],\n",
    "    how='inner',\n",
    "    left_on='countrydesc',\n",
    "    right_on='Country Name'\n",
    ").dropna()[['cip', '2020']].corr()"
   ]
  },
  {
   "cell_type": "code",
   "execution_count": 337,
   "metadata": {},
   "outputs": [],
   "source": [
    "def combine(df):\n",
    "    return (\n",
    "        pd.merge(\n",
    "            df,\n",
    "            population.dropna(subset='ISO3_code')[['ISO3_code', 'Location', 'PopTotal']],\n",
    "            how='left',\n",
    "            left_on='country_code',\n",
    "            right_on='ISO3_code',\n",
    "        )\n",
    "        .rename({'country_code': 'country'}, axis=1)\n",
    "        .merge(\n",
    "            cip.query('year == 2020')[['countrydesc','cip']].assign(cip=cip.query('year == 2020')['cip'].apply(np.log).replace(-np.inf, np.nan)),\n",
    "            how='left',\n",
    "            left_on='Location',\n",
    "            right_on='countrydesc',\n",
    "        )\n",
    "        .merge(\n",
    "            gdp.assign(country=gdp['Country Code'], gdp=gdp['2020'])[['country', 'gdp']],\n",
    "            how='left',\n",
    "            on='country',\n",
    "        )\n",
    "        .merge(\n",
    "            gni.assign(country=gni['Country Code'], gni=gni['2020'])[['country', 'gni']],\n",
    "            how='left',\n",
    "            on='country',\n",
    "        )\n",
    "        .merge(\n",
    "            western,\n",
    "            how='left',\n",
    "            on='country',\n",
    "        )\n",
    "        .merge(\n",
    "            edu,\n",
    "            how='left',\n",
    "            left_on='Location',\n",
    "            right_on='country_name',\n",
    "        )\n",
    "        .merge(\n",
    "            democratic,\n",
    "            how='left',\n",
    "            left_on='Location',\n",
    "            right_on='country_name',\n",
    "        )\n",
    "    )\n",
    "\n",
    "def get_stats(data, is_icwsm=True):\n",
    "    if is_icwsm:\n",
    "        stats = data.groupby('country_code').agg({\n",
    "            'nb_records': 'sum',\n",
    "        }).rename({'nb_records': 'nb_papers'}, axis=1)\n",
    "    else:\n",
    "        stats = data.groupby('country_code').agg({\n",
    "            'nb_participants': 'sum',\n",
    "            'paper_id': pd.Series.nunique\n",
    "        }).rename({'paper_id': 'nb_papers'}, axis=1)\n",
    "\n",
    "    # stats['participants_pct'] = stats['nb_participants'] / stats['nb_participants'].sum()\n",
    "    stats['papers_pct'] = stats['nb_papers'] / stats['nb_papers'].sum()\n",
    "\n",
    "    stats = combine(stats.reset_index())\n",
    "    stats['population_pct'] = stats['PopTotal'] / TOTAL_POPULATION\n",
    "    # stats['psi_p'] = stats['participants_pct'] / stats['population_pct']\n",
    "    stats['psi_s'] = stats['papers_pct'] / stats['population_pct']\n",
    "\n",
    "    stats['var_e'] = stats['mean_edu']\n",
    "    stats['var_i'] = stats['cip']\n",
    "    stats['var_r'] = stats['gni']\n",
    "    stats['var_d'] = stats['political rights']\n",
    "\n",
    "    stats['educated'] = stats['var_e'].gt(stats['var_e'].median())\n",
    "    stats['industrialized'] = stats['var_i'].gt(stats['var_i'].median())\n",
    "    stats['rich'] = stats['var_r'].gt(stats['var_r'].median())\n",
    "    stats['democratic'] = stats['var_d'].gt(stats['var_d'].median())\n",
    "    return stats"
   ]
  },
  {
   "cell_type": "code",
   "execution_count": 338,
   "metadata": {},
   "outputs": [],
   "source": [
    "# Getting base table for the analysis, contains info for Table 2\n",
    "stats = get_stats(data)"
   ]
  },
  {
   "cell_type": "code",
   "execution_count": 339,
   "metadata": {},
   "outputs": [],
   "source": [
    "assert stats[stats['west'].isnull()].empty"
   ]
  },
  {
   "cell_type": "code",
   "execution_count": 340,
   "metadata": {},
   "outputs": [
    {
     "name": "stdout",
     "output_type": "stream",
     "text": [
      "\\begin{tabular}{lrrr}\n",
      " & nb_papers & papers_pct & psi_s \\\\\n",
      "Location &  &  &  \\\\\n",
      "Dominica & 0.20 & 0.05% & 53.96 \\\\\n",
      "Malta & 1.00 & 0.25% & 37.69 \\\\\n",
      "United States of America & 182.66 & 45.25% & 10.56 \\\\\n",
      "French Guiana & 0.12 & 0.03% & 8.34 \\\\\n",
      "Singapore & 2.31 & 0.57% & 7.59 \\\\\n",
      "Qatar & 1.03 & 0.26% & 7.27 \\\\\n",
      "Barbados & 0.09 & 0.02% & 6.37 \\\\\n",
      "United Kingdom & 18.65 & 4.62% & 5.40 \\\\\n",
      "Norway & 1.44 & 0.36% & 5.21 \\\\\n",
      "Israel & 2.15 & 0.53% & 4.77 \\\\\n",
      "\\end{tabular}\n",
      "\n"
     ]
    }
   ],
   "source": [
    "print(\n",
    "    stats\n",
    "    .sort_values('psi_s', ascending=False)\n",
    "    .filter(['Location', 'nb_papers', 'papers_pct', 'psi_s'])\n",
    "    .head(10)\n",
    "    .set_index('Location')\n",
    "    .style.format({\n",
    "        'nb_papers': '{:,.2f}',\n",
    "        'papers_pct': '{:.2%}',\n",
    "        'psi_s': '{:.2f}'\n",
    "    })\n",
    "    .to_latex()\n",
    ")"
   ]
  },
  {
   "cell_type": "code",
   "execution_count": 341,
   "metadata": {},
   "outputs": [
    {
     "name": "stdout",
     "output_type": "stream",
     "text": [
      "\\begin{tabular}{lrrr}\n",
      " & nb_papers & papers_pct & psi_s \\\\\n",
      "Location &  &  &  \\\\\n",
      "United States of America & 182.66 & 45.25% & 10.56 \\\\\n",
      "India & 25.92 & 6.42% & 0.36 \\\\\n",
      "Japan & 21.77 & 5.39% & 3.38 \\\\\n",
      "United Kingdom & 18.65 & 4.62% & 5.40 \\\\\n",
      "Brazil & 13.64 & 3.38% & 1.24 \\\\\n",
      "China & 12.69 & 3.14% & 0.17 \\\\\n",
      "Germany & 9.82 & 2.43% & 2.29 \\\\\n",
      "Indonesia & 9.19 & 2.28% & 0.66 \\\\\n",
      "France & 8.14 & 2.02% & 2.45 \\\\\n",
      "Italy & 7.18 & 1.78% & 2.35 \\\\\n",
      "\\end{tabular}\n",
      "\n"
     ]
    }
   ],
   "source": [
    "print(\n",
    "    stats\n",
    "    .sort_values('papers_pct', ascending=False)\n",
    "    .filter(['Location', 'nb_papers', 'papers_pct', 'psi_s'])\n",
    "    .head(10)\n",
    "    .set_index('Location')\n",
    "    .style.format({\n",
    "        'nb_papers': '{:,.2f}',\n",
    "        'papers_pct': '{:.2%}',\n",
    "        'psi_s': '{:.2f}'\n",
    "    })\n",
    "    .to_latex()\n",
    ")"
   ]
  },
  {
   "attachments": {},
   "cell_type": "markdown",
   "metadata": {},
   "source": [
    "## Drawing Teaser Figure"
   ]
  },
  {
   "cell_type": "code",
   "execution_count": 342,
   "metadata": {},
   "outputs": [
    {
     "name": "stderr",
     "output_type": "stream",
     "text": [
      "/var/folders/0d/380dd3_d27v3p6p6m6nb230h0000gn/T/ipykernel_89504/1534872835.py:3: FutureWarning: The geopandas.dataset module is deprecated and will be removed in GeoPandas 1.0. You can get the original 'naturalearth_lowres' data from https://www.naturalearthdata.com/downloads/110m-cultural-vectors/.\n",
      "  world = geopandas.read_file(geopandas.datasets.get_path('naturalearth_lowres'))\n"
     ]
    }
   ],
   "source": [
    "import geopandas\n",
    "\n",
    "world = geopandas.read_file(geopandas.datasets.get_path('naturalearth_lowres'))"
   ]
  },
  {
   "cell_type": "code",
   "execution_count": 343,
   "metadata": {},
   "outputs": [],
   "source": [
    "plt.rcParams['font.size'] = 8"
   ]
  },
  {
   "cell_type": "code",
   "execution_count": 344,
   "metadata": {},
   "outputs": [
    {
     "data": {
      "image/png": "[encoded data removed]",
      "text/plain": [
       "<Figure size 960x720 with 1 Axes>"
      ]
     },
     "metadata": {},
     "output_type": "display_data"
    }
   ],
   "source": [
    "stats['psi_s_cut'] = pd.cut(\n",
    "    stats['psi_s'],\n",
    "    [-np.inf, 0, 0.05, 0.1, 0.5, 0.9999, 1.0001, 1.5, 5, 10, np.inf],\n",
    "    labels=['ψ = 0', '0 < ψ ≤ 0.05', '0.05 < ψ ≤ 0.1', '0.1 < ψ ≤ 0.5', '0.5 < ψ < 1', 'ψ = 1', '1 < ψ ≤ 1.5', '1.5 < ψ ≤ 5', '5 < ψ ≤ 10', 'ψ > 10']\n",
    ")\n",
    "stats['psi_s_cut'].value_counts().sort_index().plot.barh();"
   ]
  },
  {
   "cell_type": "code",
   "execution_count": 345,
   "metadata": {},
   "outputs": [],
   "source": [
    "from matplotlib.colors import ListedColormap\n",
    "\n",
    "cmap = ListedColormap(['#efefef'] + ['#d73027','#fc8d59','#fee090','#fff4bd','#ffffff','#e0f3f8','#acdae8','#91bfdb','#4575b4'][::-1])"
   ]
  },
  {
   "cell_type": "code",
   "execution_count": 346,
   "metadata": {},
   "outputs": [
    {
     "data": {
      "image/png": "[encoded data removed]",
      "text/html": [
       "<div style=\"vertical-align: middle;\"><strong>from_list</strong> </div><div class=\"cmap\"><img alt=\"from_list colormap\" title=\"from_list\" style=\"border: 1px solid #555;\" src=\"data:image/png;base64,iVBORw0KGgoAAAANSUhEUgAAAgAAAABACAYAAABsv8+/AAAAGHRFWHRUaXRsZQBmcm9tX2xpc3QgY29sb3JtYXBDL89FAAAAHnRFWHREZXNjcmlwdGlvbgBmcm9tX2xpc3QgY29sb3JtYXABtCnOAAAAMHRFWHRBdXRob3IATWF0cGxvdGxpYiB2My44LjAsIGh0dHBzOi8vbWF0cGxvdGxpYi5vcmefc/hPAAAAMnRFWHRTb2Z0d2FyZQBNYXRwbG90bGliIHYzLjguMCwgaHR0cHM6Ly9tYXRwbG90bGliLm9yZ7HVZ2gAAAF4SURBVHic7dahTURRFABRwGAgwZIVSBqgCoKmpG0EvS2sQ2AwSFog+QrL0sQLN2HOqWDknG/bdjr7R573r9MJyzw93k8nLLPbXU8nLPNwezOdsMzd1eV0wjrfx+mCZU5fH9MJy/wc3qYTlvl8eZ9OWOpiOgAA+HsGAACCDAAABBkAAAgyAAAQZAAAIMgAAECQAQCAIAMAAEEGAACCDAAABBkAAAgyAAAQZAAAIMgAAECQAQCAIAMAAEEGAACCDAAABBkAAAgyAAAQZAAAIMgAAECQAQCAIAMAAEEGAACCDAAABBkAAAgyAAAQZAAAIMgAAECQAQCAIAMAAEEGAACCDAAABBkAAAgyAAAQZAAAIMgAAECQAQCAIAMAAEEGAACCDAAABBkAAAgyAAAQZAAAIMgAAECQAQCAIAMAAEEGAACCDAAABBkAAAgyAAAQZAAAIMgAAECQAQCAIAMAAEEGAACCDAAABBkAAAgyAAAQZAAAIMgAAEDQLx9nEK0+PtVRAAAAAElFTkSuQmCC\"></div><div style=\"vertical-align: middle; max-width: 514px; display: flex; justify-content: space-between;\"><div style=\"float: left;\"><div title=\"#efefefff\" style=\"display: inline-block; width: 1em; height: 1em; margin: 0; vertical-align: middle; border: 1px solid #555; background-color: #efefefff;\"></div> under</div><div style=\"margin: 0 auto; display: inline-block;\">bad <div title=\"#00000000\" style=\"display: inline-block; width: 1em; height: 1em; margin: 0; vertical-align: middle; border: 1px solid #555; background-color: #00000000;\"></div></div><div style=\"float: right;\">over <div title=\"#d73027ff\" style=\"display: inline-block; width: 1em; height: 1em; margin: 0; vertical-align: middle; border: 1px solid #555; background-color: #d73027ff;\"></div></div>"
      ],
      "text/plain": [
       "<matplotlib.colors.ListedColormap at 0x140df09d0>"
      ]
     },
     "execution_count": 346,
     "metadata": {},
     "output_type": "execute_result"
    }
   ],
   "source": [
    "cmap"
   ]
  },
  {
   "attachments": {},
   "cell_type": "markdown",
   "metadata": {},
   "source": [
    "For the following map, $\\psi > 1.5$ means over-represented, $\\psi < 0.5$ means under-represented"
   ]
  },
  {
   "cell_type": "code",
   "execution_count": 347,
   "metadata": {},
   "outputs": [
    {
     "data": {
      "image/png": "[encoded data removed]",
      "text/plain": [
       "<Figure size 1800x1050 with 1 Axes>"
      ]
     },
     "metadata": {},
     "output_type": "display_data"
    }
   ],
   "source": [
    "ax = world.query('continent != \"Antarctica\"').merge(\n",
    "    stats,\n",
    "    how='left',\n",
    "    left_on='iso_a3',\n",
    "    right_on='country'\n",
    ").fillna('ψ = 0').plot(\n",
    "    column='psi_s_cut', edgecolor='black',\n",
    "    linewidth=0.1, figsize=(12, 7),\n",
    "    legend=True,\n",
    "    legend_kwds=dict(\n",
    "        title='Papers ratio',\n",
    "        loc='lower left',\n",
    "        frameon=False,\n",
    "        fontsize=9.5,\n",
    "    ),\n",
    "    cmap=cmap\n",
    ")\n",
    "plt.axis('off')\n",
    "plt.savefig('figures/world-map.pdf', dpi=150, bbox_inches='tight')"
   ]
  },
  {
   "attachments": {},
   "cell_type": "markdown",
   "metadata": {},
   "source": [
    "# RQ1: How WEIRD is the ICWSM conference?"
   ]
  },
  {
   "cell_type": "code",
   "execution_count": 434,
   "metadata": {},
   "outputs": [],
   "source": [
    "from scipy.stats import kendalltau, permutation_test\n",
    "\n",
    "def compute_metric(stats, x1, x2, bootstrap=False, is_print=True):\n",
    "    variables = stats[[x1, x2]].dropna()\n",
    "    if bootstrap:\n",
    "        tau = [kendalltau(*variables.sample(len(variables), replace=True).values.T)[0] for _ in range(10_000)]\n",
    "        mu = np.array(tau).mean()\n",
    "        sigma = 2 * np.array(tau).std()\n",
    "\n",
    "        if is_print:\n",
    "            print(f\"{mu:.2f};[{mu - sigma:.2f}, {mu + sigma:.2f}]\")\n",
    "        else:\n",
    "            return np.array(tau)\n",
    "\n",
    "        # def statistic(x):\n",
    "        #     return kendalltau(x, variables[x2]).statistic\n",
    "\n",
    "        # ref = permutation_test((variables[x1],), statistic, n_resamples=10_000, permutation_type='pairings')\n",
    "        # tau = ref.statistic\n",
    "        # lb, ub = np.quantile(ref.null_distribution, [0.025, 0.975])\n",
    "\n",
    "        # if is_print:\n",
    "        #     print(f\"{tau:.2f};[{lb:.2f}, {ub:.2f}]\")\n",
    "        # else:\n",
    "        #     return ref.null_distribution\n",
    "    else:\n",
    "        tau, p_value = kendalltau(*variables.values.T)\n",
    "        if is_print:\n",
    "            print(f\"tau = {tau:.2f}, p-val = {p_value:.4f}\")\n",
    "        else:\n",
    "            return tau, p_value"
   ]
  },
  {
   "cell_type": "code",
   "execution_count": 435,
   "metadata": {},
   "outputs": [
    {
     "name": "stdout",
     "output_type": "stream",
     "text": [
      "  country  a  b\n",
      "0     USA  4  4\n",
      "1     GBR  3  3\n",
      "2     DEU  1  2\n",
      "3     JPN  2  1\n",
      "SignificanceResult(statistic=0.6666666666666669, pvalue=0.3333333333333333)\n",
      "SignificanceResult(statistic=0.7999999999999999, pvalue=0.20000000000000007)\n"
     ]
    }
   ],
   "source": [
    "# This is a sandbox to see how Kendall tau rank correlation works.\n",
    "# Try to change the value of a and b and see what happens to the correlation.\n",
    "from scipy.stats import spearmanr, kendalltau\n",
    "\n",
    "z = pd.DataFrame({\n",
    "    \"country\": [\"USA\", \"GBR\", \"DEU\", \"JPN\"],\n",
    "    \"a\": [4, 3, 1, 2],\n",
    "    \"b\": [4, 3, 2, 1]\n",
    "})\n",
    "print(z)\n",
    "print(kendalltau(z['a'], z['b']))\n",
    "print(spearmanr(z['a'], z['b']))"
   ]
  },
  {
   "cell_type": "code",
   "execution_count": 436,
   "metadata": {},
   "outputs": [],
   "source": [
    "unique_papers = data.groupby('paper_id').size()\n",
    "unique_paper_ids = unique_papers[unique_papers.eq(1)].index.to_list()"
   ]
  },
  {
   "cell_type": "code",
   "execution_count": 437,
   "metadata": {},
   "outputs": [
    {
     "data": {
      "text/plain": [
       "0.26666666666666666"
      ]
     },
     "execution_count": 437,
     "metadata": {},
     "output_type": "execute_result"
    }
   ],
   "source": [
    "# Exclusively studying USA\n",
    "data[data['paper_id'].isin(unique_paper_ids)].country_code.eq('USA').sum() / data['paper_id'].nunique()"
   ]
  },
  {
   "cell_type": "code",
   "execution_count": 438,
   "metadata": {},
   "outputs": [
    {
     "data": {
      "text/html": [
       "<style type=\"text/css\">\n",
       "</style>\n",
       "<table id=\"T_1b697\">\n",
       "  <thead>\n",
       "    <tr>\n",
       "      <th class=\"blank level0\" >&nbsp;</th>\n",
       "      <th id=\"T_1b697_level0_col0\" class=\"col_heading level0 col0\" >count</th>\n",
       "      <th id=\"T_1b697_level0_col1\" class=\"col_heading level0 col1\" >percentage</th>\n",
       "    </tr>\n",
       "    <tr>\n",
       "      <th class=\"index_name level0\" >var</th>\n",
       "      <th class=\"blank col0\" >&nbsp;</th>\n",
       "      <th class=\"blank col1\" >&nbsp;</th>\n",
       "    </tr>\n",
       "  </thead>\n",
       "  <tbody>\n",
       "    <tr>\n",
       "      <th id=\"T_1b697_level0_row0\" class=\"row_heading level0 row0\" >Exclusively Western</th>\n",
       "      <td id=\"T_1b697_row0_col0\" class=\"data row0 col0\" >157</td>\n",
       "      <td id=\"T_1b697_row0_col1\" class=\"data row0 col1\" >37.38%</td>\n",
       "    </tr>\n",
       "    <tr>\n",
       "      <th id=\"T_1b697_level0_row1\" class=\"row_heading level0 row1\" >Exclusively non-Western</th>\n",
       "      <td id=\"T_1b697_row1_col0\" class=\"data row1 col0\" >51</td>\n",
       "      <td id=\"T_1b697_row1_col1\" class=\"data row1 col1\" >12.14%</td>\n",
       "    </tr>\n",
       "    <tr>\n",
       "      <th id=\"T_1b697_level0_row2\" class=\"row_heading level0 row2\" >Mixed</th>\n",
       "      <td id=\"T_1b697_row2_col0\" class=\"data row2 col0\" >212</td>\n",
       "      <td id=\"T_1b697_row2_col1\" class=\"data row2 col1\" >50.48%</td>\n",
       "    </tr>\n",
       "  </tbody>\n",
       "</table>\n"
      ],
      "text/plain": [
       "<pandas.io.formats.style.Styler at 0x169635e40>"
      ]
     },
     "execution_count": 438,
     "metadata": {},
     "output_type": "execute_result"
    }
   ],
   "source": [
    "# Western\n",
    "# 1 = Exclusively Western\n",
    "# 0 = Exclusively non-Western\n",
    "# [0, 1] = Mixed\n",
    "w_score = combine(data).groupby('paper_id').west.mean().value_counts(False).reset_index()\n",
    "w_score['var'] = np.select(\n",
    "    [w_score['west'] == 1, w_score['west'] == 0],\n",
    "    ['Exclusively Western', 'Exclusively non-Western'],\n",
    "    'Mixed'\n",
    ")\n",
    "w_score = w_score.groupby('var').agg({'count': 'sum'})\n",
    "w_score.assign(percentage=w_score['count'] / w_score['count'].sum()).style.format({'percentage': '{:.2%}'})"
   ]
  },
  {
   "cell_type": "code",
   "execution_count": 439,
   "metadata": {},
   "outputs": [
    {
     "name": "stdout",
     "output_type": "stream",
     "text": [
      "tau = 0.36, p-val = 0.0000\n",
      "tau = 0.35, p-val = 0.0000\n",
      "tau = 0.49, p-val = 0.0000\n",
      "tau = 0.32, p-val = 0.0000\n"
     ]
    }
   ],
   "source": [
    "# Computing EIRD\n",
    "compute_metric(stats, 'var_e', 'psi_s', bootstrap=False)\n",
    "compute_metric(stats, 'var_i', 'psi_s', bootstrap=False)\n",
    "compute_metric(stats, 'var_r', 'psi_s', bootstrap=False)\n",
    "compute_metric(stats, 'var_d', 'psi_s', bootstrap=False)"
   ]
  },
  {
   "cell_type": "code",
   "execution_count": 440,
   "metadata": {},
   "outputs": [
    {
     "name": "stdout",
     "output_type": "stream",
     "text": [
      "0.36;[0.23, 0.49]\n",
      "0.35;[0.20, 0.50]\n",
      "0.49;[0.36, 0.61]\n",
      "0.33;[0.20, 0.45]\n"
     ]
    }
   ],
   "source": [
    "np.random.seed(42)\n",
    "\n",
    "# Computing EIRD\n",
    "compute_metric(stats, 'var_e', 'psi_s', bootstrap=True)\n",
    "compute_metric(stats, 'var_i', 'psi_s', bootstrap=True)\n",
    "compute_metric(stats, 'var_r', 'psi_s', bootstrap=True)\n",
    "compute_metric(stats, 'var_d', 'psi_s', bootstrap=True)"
   ]
  },
  {
   "cell_type": "markdown",
   "metadata": {},
   "source": [
    "## FAccT"
   ]
  },
  {
   "cell_type": "code",
   "execution_count": 359,
   "metadata": {},
   "outputs": [],
   "source": [
    "facct = pd.read_csv('datasets/weird_faccts.csv')\n",
    "facct['paper_id'] = facct['paper_id'].ffill()\n",
    "facct['publication_year'] = facct['publication_year'].ffill()\n",
    "facct['non_human'] = facct['non_human'].notna()\n",
    "facct['synthetic'] = facct['synthetic'].notna()\n",
    "facct = facct.drop(['paper_title', 'url', 'url_data', 'notes'], axis=1)\n",
    "facct = facct.replace('y', True).replace('n', False)\n",
    "\n",
    "facct = facct.query('~non_human and ~synthetic and nb_records.notna() and country.notna()').copy()\n",
    "facct['nb_participants'] = facct['nb_records'].astype('float')\n",
    "facct['original'] = facct['original'].fillna(False)\n",
    "\n",
    "facct_data = facct[['paper_id', 'country', 'nb_participants']].rename({'country': 'country_code'}, axis=1)\n",
    "facct_stats = get_stats(facct_data, is_icwsm=False)"
   ]
  },
  {
   "cell_type": "code",
   "execution_count": 360,
   "metadata": {},
   "outputs": [
    {
     "data": {
      "text/html": [
       "<style type=\"text/css\">\n",
       "</style>\n",
       "<table id=\"T_d683f\">\n",
       "  <thead>\n",
       "    <tr>\n",
       "      <th class=\"blank level0\" >&nbsp;</th>\n",
       "      <th id=\"T_d683f_level0_col0\" class=\"col_heading level0 col0\" >nb_papers</th>\n",
       "      <th id=\"T_d683f_level0_col1\" class=\"col_heading level0 col1\" >papers_pct</th>\n",
       "      <th id=\"T_d683f_level0_col2\" class=\"col_heading level0 col2\" >psi_s</th>\n",
       "    </tr>\n",
       "    <tr>\n",
       "      <th class=\"index_name level0\" >Location</th>\n",
       "      <th class=\"blank col0\" >&nbsp;</th>\n",
       "      <th class=\"blank col1\" >&nbsp;</th>\n",
       "      <th class=\"blank col2\" >&nbsp;</th>\n",
       "    </tr>\n",
       "  </thead>\n",
       "  <tbody>\n",
       "    <tr>\n",
       "      <th id=\"T_d683f_level0_row0\" class=\"row_heading level0 row0\" >United States of America</th>\n",
       "      <td id=\"T_d683f_row0_col0\" class=\"data row0 col0\" >106</td>\n",
       "      <td id=\"T_d683f_row0_col1\" class=\"data row0 col1\" >46.49%</td>\n",
       "      <td id=\"T_d683f_row0_col2\" class=\"data row0 col2\" >10.85</td>\n",
       "    </tr>\n",
       "    <tr>\n",
       "      <th id=\"T_d683f_level0_row1\" class=\"row_heading level0 row1\" >Germany</th>\n",
       "      <td id=\"T_d683f_row1_col0\" class=\"data row1 col0\" >20</td>\n",
       "      <td id=\"T_d683f_row1_col1\" class=\"data row1 col1\" >8.77%</td>\n",
       "      <td id=\"T_d683f_row1_col2\" class=\"data row1 col2\" >8.25</td>\n",
       "    </tr>\n",
       "    <tr>\n",
       "      <th id=\"T_d683f_level0_row2\" class=\"row_heading level0 row2\" >United Kingdom</th>\n",
       "      <td id=\"T_d683f_row2_col0\" class=\"data row2 col0\" >12</td>\n",
       "      <td id=\"T_d683f_row2_col1\" class=\"data row2 col1\" >5.26%</td>\n",
       "      <td id=\"T_d683f_row2_col2\" class=\"data row2 col2\" >6.15</td>\n",
       "    </tr>\n",
       "    <tr>\n",
       "      <th id=\"T_d683f_level0_row3\" class=\"row_heading level0 row3\" >India</th>\n",
       "      <td id=\"T_d683f_row3_col0\" class=\"data row3 col0\" >8</td>\n",
       "      <td id=\"T_d683f_row3_col1\" class=\"data row3 col1\" >3.51%</td>\n",
       "      <td id=\"T_d683f_row3_col2\" class=\"data row3 col2\" >0.20</td>\n",
       "    </tr>\n",
       "    <tr>\n",
       "      <th id=\"T_d683f_level0_row4\" class=\"row_heading level0 row4\" >Portugal</th>\n",
       "      <td id=\"T_d683f_row4_col0\" class=\"data row4 col0\" >7</td>\n",
       "      <td id=\"T_d683f_row4_col1\" class=\"data row4 col1\" >3.07%</td>\n",
       "      <td id=\"T_d683f_row4_col2\" class=\"data row4 col2\" >23.38</td>\n",
       "    </tr>\n",
       "    <tr>\n",
       "      <th id=\"T_d683f_level0_row5\" class=\"row_heading level0 row5\" >China, Taiwan Province of China</th>\n",
       "      <td id=\"T_d683f_row5_col0\" class=\"data row5 col0\" >4</td>\n",
       "      <td id=\"T_d683f_row5_col1\" class=\"data row5 col1\" >1.75%</td>\n",
       "      <td id=\"T_d683f_row5_col2\" class=\"data row5 col2\" >5.77</td>\n",
       "    </tr>\n",
       "    <tr>\n",
       "      <th id=\"T_d683f_level0_row6\" class=\"row_heading level0 row6\" >Canada</th>\n",
       "      <td id=\"T_d683f_row6_col0\" class=\"data row6 col0\" >4</td>\n",
       "      <td id=\"T_d683f_row6_col1\" class=\"data row6 col1\" >1.75%</td>\n",
       "      <td id=\"T_d683f_row6_col2\" class=\"data row6 col2\" >3.63</td>\n",
       "    </tr>\n",
       "    <tr>\n",
       "      <th id=\"T_d683f_level0_row7\" class=\"row_heading level0 row7\" >Sweden</th>\n",
       "      <td id=\"T_d683f_row7_col0\" class=\"data row7 col0\" >4</td>\n",
       "      <td id=\"T_d683f_row7_col1\" class=\"data row7 col1\" >1.75%</td>\n",
       "      <td id=\"T_d683f_row7_col2\" class=\"data row7 col2\" >13.27</td>\n",
       "    </tr>\n",
       "    <tr>\n",
       "      <th id=\"T_d683f_level0_row8\" class=\"row_heading level0 row8\" >Ireland</th>\n",
       "      <td id=\"T_d683f_row8_col0\" class=\"data row8 col0\" >4</td>\n",
       "      <td id=\"T_d683f_row8_col1\" class=\"data row8 col1\" >1.75%</td>\n",
       "      <td id=\"T_d683f_row8_col2\" class=\"data row8 col2\" >27.81</td>\n",
       "    </tr>\n",
       "    <tr>\n",
       "      <th id=\"T_d683f_level0_row9\" class=\"row_heading level0 row9\" >Australia</th>\n",
       "      <td id=\"T_d683f_row9_col0\" class=\"data row9 col0\" >4</td>\n",
       "      <td id=\"T_d683f_row9_col1\" class=\"data row9 col1\" >1.75%</td>\n",
       "      <td id=\"T_d683f_row9_col2\" class=\"data row9 col2\" >5.36</td>\n",
       "    </tr>\n",
       "  </tbody>\n",
       "</table>\n"
      ],
      "text/plain": [
       "<pandas.io.formats.style.Styler at 0x1680e6980>"
      ]
     },
     "execution_count": 360,
     "metadata": {},
     "output_type": "execute_result"
    }
   ],
   "source": [
    "(\n",
    "    facct_stats\n",
    "    .sort_values('papers_pct', ascending=False)\n",
    "    .filter(['Location', 'nb_papers', 'papers_pct', 'psi_s'])\n",
    "    .head(10)\n",
    "    .set_index('Location')\n",
    "    .style.format({\n",
    "        'nb_papers': '{:,.0f}',\n",
    "        'papers_pct': '{:.2%}',\n",
    "        'psi_s': '{:.2f}'\n",
    "    })\n",
    ")"
   ]
  },
  {
   "cell_type": "code",
   "execution_count": 361,
   "metadata": {},
   "outputs": [
    {
     "data": {
      "text/html": [
       "<style type=\"text/css\">\n",
       "</style>\n",
       "<table id=\"T_30125\">\n",
       "  <thead>\n",
       "    <tr>\n",
       "      <th class=\"blank level0\" >&nbsp;</th>\n",
       "      <th id=\"T_30125_level0_col0\" class=\"col_heading level0 col0\" >count</th>\n",
       "      <th id=\"T_30125_level0_col1\" class=\"col_heading level0 col1\" >percentage</th>\n",
       "    </tr>\n",
       "    <tr>\n",
       "      <th class=\"index_name level0\" >var</th>\n",
       "      <th class=\"blank col0\" >&nbsp;</th>\n",
       "      <th class=\"blank col1\" >&nbsp;</th>\n",
       "    </tr>\n",
       "  </thead>\n",
       "  <tbody>\n",
       "    <tr>\n",
       "      <th id=\"T_30125_level0_row0\" class=\"row_heading level0 row0\" >Exclusively Western</th>\n",
       "      <td id=\"T_30125_row0_col0\" class=\"data row0 col0\" >108</td>\n",
       "      <td id=\"T_30125_row0_col1\" class=\"data row0 col1\" >84.38%</td>\n",
       "    </tr>\n",
       "    <tr>\n",
       "      <th id=\"T_30125_level0_row1\" class=\"row_heading level0 row1\" >Exclusively non-Western</th>\n",
       "      <td id=\"T_30125_row1_col0\" class=\"data row1 col0\" >9</td>\n",
       "      <td id=\"T_30125_row1_col1\" class=\"data row1 col1\" >7.03%</td>\n",
       "    </tr>\n",
       "    <tr>\n",
       "      <th id=\"T_30125_level0_row2\" class=\"row_heading level0 row2\" >Mixed</th>\n",
       "      <td id=\"T_30125_row2_col0\" class=\"data row2 col0\" >11</td>\n",
       "      <td id=\"T_30125_row2_col1\" class=\"data row2 col1\" >8.59%</td>\n",
       "    </tr>\n",
       "  </tbody>\n",
       "</table>\n"
      ],
      "text/plain": [
       "<pandas.io.formats.style.Styler at 0x16a0e6fb0>"
      ]
     },
     "execution_count": 361,
     "metadata": {},
     "output_type": "execute_result"
    }
   ],
   "source": [
    "# Western\n",
    "# 1 = Exclusively Western\n",
    "# 0 = Exclusively non-Western\n",
    "# [0, 1] = Mixed\n",
    "w_score = combine(facct_data).groupby('paper_id').west.mean().value_counts(False).reset_index()\n",
    "w_score['var'] = np.select(\n",
    "    [w_score['west'] == 1, w_score['west'] == 0],\n",
    "    ['Exclusively Western', 'Exclusively non-Western'],\n",
    "    'Mixed'\n",
    ")\n",
    "w_score = w_score.groupby('var').agg({'count': 'sum'})\n",
    "w_score.assign(percentage=w_score['count'] / w_score['count'].sum()).style.format({'percentage': '{:.2%}'})"
   ]
  },
  {
   "cell_type": "code",
   "execution_count": 362,
   "metadata": {},
   "outputs": [
    {
     "name": "stdout",
     "output_type": "stream",
     "text": [
      "tau = 0.31, p-val = 0.0016\n",
      "tau = 0.01, p-val = 0.9010\n",
      "tau = 0.34, p-val = 0.0005\n",
      "tau = 0.37, p-val = 0.0002\n"
     ]
    }
   ],
   "source": [
    "# Computing EIRD\n",
    "compute_metric(facct_stats, 'var_e', 'psi_s', bootstrap=False)\n",
    "compute_metric(facct_stats, 'var_i', 'psi_s', bootstrap=False)\n",
    "compute_metric(facct_stats, 'var_r', 'psi_s', bootstrap=False)\n",
    "compute_metric(facct_stats, 'var_d', 'psi_s', bootstrap=False)"
   ]
  },
  {
   "cell_type": "code",
   "execution_count": 363,
   "metadata": {},
   "outputs": [
    {
     "name": "stdout",
     "output_type": "stream",
     "text": [
      "0.31;[0.12, 0.50]\n",
      "0.01;[-0.21, 0.23]\n",
      "0.34;[0.20, 0.49]\n",
      "0.37;[0.20, 0.55]\n"
     ]
    }
   ],
   "source": [
    "# Computing EIRD\n",
    "compute_metric(facct_stats, 'var_e', 'psi_s', bootstrap=True)\n",
    "compute_metric(facct_stats, 'var_i', 'psi_s', bootstrap=True)\n",
    "compute_metric(facct_stats, 'var_r', 'psi_s', bootstrap=True)\n",
    "compute_metric(facct_stats, 'var_d', 'psi_s', bootstrap=True)"
   ]
  },
  {
   "cell_type": "markdown",
   "metadata": {},
   "source": [
    "## CHI"
   ]
  },
  {
   "cell_type": "code",
   "execution_count": 364,
   "metadata": {},
   "outputs": [],
   "source": [
    "chi_data = pd.read_csv('datasets/chi_psi_s.csv').rename({'country': 'country_code'}, axis=1)\n",
    "chi_stats = combine(chi_data)\n",
    "chi_stats['var_e'] = chi_stats['mean_edu']\n",
    "chi_stats['var_i'] = chi_stats['cip']\n",
    "chi_stats['var_r'] = chi_stats['gni']\n",
    "chi_stats['var_d'] = chi_stats['political rights']"
   ]
  },
  {
   "cell_type": "code",
   "execution_count": 365,
   "metadata": {},
   "outputs": [
    {
     "name": "stdout",
     "output_type": "stream",
     "text": [
      "tau = 0.43, p-val = 0.0000\n",
      "tau = 0.27, p-val = 0.0002\n",
      "tau = 0.50, p-val = 0.0000\n",
      "tau = 0.51, p-val = 0.0000\n"
     ]
    }
   ],
   "source": [
    "# Computing EIRD\n",
    "compute_metric(chi_stats, 'var_e', 'psi_s', bootstrap=False)\n",
    "compute_metric(chi_stats, 'var_i', 'psi_s', bootstrap=False)\n",
    "compute_metric(chi_stats, 'var_r', 'psi_s', bootstrap=False)\n",
    "compute_metric(chi_stats, 'var_d', 'psi_s', bootstrap=False)"
   ]
  },
  {
   "cell_type": "code",
   "execution_count": 366,
   "metadata": {},
   "outputs": [
    {
     "name": "stdout",
     "output_type": "stream",
     "text": [
      "0.43;[0.30, 0.57]\n",
      "0.27;[0.13, 0.41]\n",
      "0.49;[0.37, 0.62]\n",
      "0.51;[0.41, 0.61]\n"
     ]
    }
   ],
   "source": [
    "# Computing EIRD\n",
    "compute_metric(chi_stats, 'var_e', 'psi_s', bootstrap=True)\n",
    "compute_metric(chi_stats, 'var_i', 'psi_s', bootstrap=True)\n",
    "compute_metric(chi_stats, 'var_r', 'psi_s', bootstrap=True)\n",
    "compute_metric(chi_stats, 'var_d', 'psi_s', bootstrap=True)"
   ]
  },
  {
   "cell_type": "markdown",
   "metadata": {},
   "source": [
    "# RQ2: Dataset & Posters vs Full"
   ]
  },
  {
   "cell_type": "code",
   "execution_count": 384,
   "metadata": {},
   "outputs": [],
   "source": [
    "df_full = pd.read_csv('datasets/icwsm-full-normalized-v2.csv').assign(paper_type='full')\n",
    "df_rest = pd.read_csv('datasets/icwsm-rest-normalized-v2.csv').assign(paper_type='rest')"
   ]
  },
  {
   "cell_type": "code",
   "execution_count": 385,
   "metadata": {},
   "outputs": [
    {
     "data": {
      "text/plain": [
       "302"
      ]
     },
     "execution_count": 385,
     "metadata": {},
     "output_type": "execute_result"
    }
   ],
   "source": [
    "df_full['paper_id'].nunique()"
   ]
  },
  {
   "cell_type": "code",
   "execution_count": 386,
   "metadata": {},
   "outputs": [
    {
     "data": {
      "text/plain": [
       "118"
      ]
     },
     "execution_count": 386,
     "metadata": {},
     "output_type": "execute_result"
    }
   ],
   "source": [
    "df_rest['paper_id'].nunique()"
   ]
  },
  {
   "cell_type": "code",
   "execution_count": 387,
   "metadata": {},
   "outputs": [
    {
     "data": {
      "text/html": [
       "<style type=\"text/css\">\n",
       "</style>\n",
       "<table id=\"T_cda4b\">\n",
       "  <thead>\n",
       "    <tr>\n",
       "      <th class=\"blank level0\" >&nbsp;</th>\n",
       "      <th id=\"T_cda4b_level0_col0\" class=\"col_heading level0 col0\" >count</th>\n",
       "      <th id=\"T_cda4b_level0_col1\" class=\"col_heading level0 col1\" >percentage</th>\n",
       "    </tr>\n",
       "    <tr>\n",
       "      <th class=\"index_name level0\" >var</th>\n",
       "      <th class=\"blank col0\" >&nbsp;</th>\n",
       "      <th class=\"blank col1\" >&nbsp;</th>\n",
       "    </tr>\n",
       "  </thead>\n",
       "  <tbody>\n",
       "    <tr>\n",
       "      <th id=\"T_cda4b_level0_row0\" class=\"row_heading level0 row0\" >Exclusively Western</th>\n",
       "      <td id=\"T_cda4b_row0_col0\" class=\"data row0 col0\" >121</td>\n",
       "      <td id=\"T_cda4b_row0_col1\" class=\"data row0 col1\" >40.07%</td>\n",
       "    </tr>\n",
       "    <tr>\n",
       "      <th id=\"T_cda4b_level0_row1\" class=\"row_heading level0 row1\" >Exclusively non-Western</th>\n",
       "      <td id=\"T_cda4b_row1_col0\" class=\"data row1 col0\" >33</td>\n",
       "      <td id=\"T_cda4b_row1_col1\" class=\"data row1 col1\" >10.93%</td>\n",
       "    </tr>\n",
       "    <tr>\n",
       "      <th id=\"T_cda4b_level0_row2\" class=\"row_heading level0 row2\" >Mixed</th>\n",
       "      <td id=\"T_cda4b_row2_col0\" class=\"data row2 col0\" >148</td>\n",
       "      <td id=\"T_cda4b_row2_col1\" class=\"data row2 col1\" >49.01%</td>\n",
       "    </tr>\n",
       "  </tbody>\n",
       "</table>\n"
      ],
      "text/plain": [
       "<pandas.io.formats.style.Styler at 0x14109b580>"
      ]
     },
     "execution_count": 387,
     "metadata": {},
     "output_type": "execute_result"
    }
   ],
   "source": [
    "# Western\n",
    "# 1 = Exclusively Western\n",
    "# 0 = Exclusively non-Western\n",
    "# [0, 1] = Mixed\n",
    "w_score = combine(df_full).groupby('paper_id').west.mean().value_counts(False).reset_index()\n",
    "w_score['var'] = np.select(\n",
    "    [w_score['west'] == 1, w_score['west'] == 0],\n",
    "    ['Exclusively Western', 'Exclusively non-Western'],\n",
    "    'Mixed'\n",
    ")\n",
    "w_score = w_score.groupby('var').agg({'count': 'sum'})\n",
    "w_score.assign(percentage=w_score['count'] / w_score['count'].sum()).style.format({'percentage': '{:.2%}'})"
   ]
  },
  {
   "cell_type": "code",
   "execution_count": 388,
   "metadata": {},
   "outputs": [
    {
     "data": {
      "text/html": [
       "<style type=\"text/css\">\n",
       "</style>\n",
       "<table id=\"T_90180\">\n",
       "  <thead>\n",
       "    <tr>\n",
       "      <th class=\"blank level0\" >&nbsp;</th>\n",
       "      <th id=\"T_90180_level0_col0\" class=\"col_heading level0 col0\" >count</th>\n",
       "      <th id=\"T_90180_level0_col1\" class=\"col_heading level0 col1\" >percentage</th>\n",
       "    </tr>\n",
       "    <tr>\n",
       "      <th class=\"index_name level0\" >var</th>\n",
       "      <th class=\"blank col0\" >&nbsp;</th>\n",
       "      <th class=\"blank col1\" >&nbsp;</th>\n",
       "    </tr>\n",
       "  </thead>\n",
       "  <tbody>\n",
       "    <tr>\n",
       "      <th id=\"T_90180_level0_row0\" class=\"row_heading level0 row0\" >Exclusively Western</th>\n",
       "      <td id=\"T_90180_row0_col0\" class=\"data row0 col0\" >36</td>\n",
       "      <td id=\"T_90180_row0_col1\" class=\"data row0 col1\" >30.51%</td>\n",
       "    </tr>\n",
       "    <tr>\n",
       "      <th id=\"T_90180_level0_row1\" class=\"row_heading level0 row1\" >Exclusively non-Western</th>\n",
       "      <td id=\"T_90180_row1_col0\" class=\"data row1 col0\" >18</td>\n",
       "      <td id=\"T_90180_row1_col1\" class=\"data row1 col1\" >15.25%</td>\n",
       "    </tr>\n",
       "    <tr>\n",
       "      <th id=\"T_90180_level0_row2\" class=\"row_heading level0 row2\" >Mixed</th>\n",
       "      <td id=\"T_90180_row2_col0\" class=\"data row2 col0\" >64</td>\n",
       "      <td id=\"T_90180_row2_col1\" class=\"data row2 col1\" >54.24%</td>\n",
       "    </tr>\n",
       "  </tbody>\n",
       "</table>\n"
      ],
      "text/plain": [
       "<pandas.io.formats.style.Styler at 0x141024850>"
      ]
     },
     "execution_count": 388,
     "metadata": {},
     "output_type": "execute_result"
    }
   ],
   "source": [
    "# Western\n",
    "# 1 = Exclusively Western\n",
    "# 0 = Exclusively non-Western\n",
    "# [0, 1] = Mixed\n",
    "w_score = combine(df_rest).groupby('paper_id').west.mean().value_counts(False).reset_index()\n",
    "w_score['var'] = np.select(\n",
    "    [w_score['west'] == 1, w_score['west'] == 0],\n",
    "    ['Exclusively Western', 'Exclusively non-Western'],\n",
    "    'Mixed'\n",
    ")\n",
    "w_score = w_score.groupby('var').agg({'count': 'sum'})\n",
    "w_score.assign(percentage=w_score['count'] / w_score['count'].sum()).style.format({'percentage': '{:.2%}'})"
   ]
  },
  {
   "cell_type": "code",
   "execution_count": 389,
   "metadata": {},
   "outputs": [
    {
     "data": {
      "text/plain": [
       "Chi2ContingencyResult(statistic=3.8416946560814633, pvalue=0.14648279055482874, dof=2, expected_freq=array([[112.89047619,  36.67142857, 152.43809524],\n",
       "       [ 44.10952381,  14.32857143,  59.56190476]]))"
      ]
     },
     "execution_count": 389,
     "metadata": {},
     "output_type": "execute_result"
    }
   ],
   "source": [
    "from scipy.stats import chi2_contingency\n",
    "\n",
    "contingency = [\n",
    "    [121, 33, 148],\n",
    "    [36, 18, 64],\n",
    "]\n",
    "\n",
    "chi2_contingency(contingency)"
   ]
  },
  {
   "cell_type": "code",
   "execution_count": 390,
   "metadata": {},
   "outputs": [
    {
     "name": "stdout",
     "output_type": "stream",
     "text": [
      "0.40;[0.27, 0.52]\n",
      "0.39;[0.24, 0.53]\n",
      "0.48;[0.35, 0.61]\n",
      "0.39;[0.27, 0.51]\n"
     ]
    }
   ],
   "source": [
    "np.random.seed(42)\n",
    "\n",
    "compute_metric(get_stats(df_full), 'var_e', 'psi_s', bootstrap=True)\n",
    "compute_metric(get_stats(df_full), 'var_i', 'psi_s', bootstrap=True)\n",
    "compute_metric(get_stats(df_full), 'var_r', 'psi_s', bootstrap=True)\n",
    "compute_metric(get_stats(df_full), 'var_d', 'psi_s', bootstrap=True)"
   ]
  },
  {
   "cell_type": "code",
   "execution_count": 391,
   "metadata": {},
   "outputs": [
    {
     "name": "stdout",
     "output_type": "stream",
     "text": [
      "0.28;[0.14, 0.41]\n",
      "0.30;[0.15, 0.46]\n",
      "0.41;[0.28, 0.54]\n",
      "0.21;[0.06, 0.36]\n"
     ]
    }
   ],
   "source": [
    "np.random.seed(42)\n",
    "\n",
    "compute_metric(get_stats(df_rest), 'var_e', 'psi_s', bootstrap=True)\n",
    "compute_metric(get_stats(df_rest), 'var_i', 'psi_s', bootstrap=True)\n",
    "compute_metric(get_stats(df_rest), 'var_r', 'psi_s', bootstrap=True)\n",
    "compute_metric(get_stats(df_rest), 'var_d', 'psi_s', bootstrap=True)"
   ]
  },
  {
   "cell_type": "code",
   "execution_count": 392,
   "metadata": {},
   "outputs": [],
   "source": [
    "assert df.shape[0] == df_full.shape[0] + df_rest.shape[0]"
   ]
  },
  {
   "cell_type": "code",
   "execution_count": 393,
   "metadata": {},
   "outputs": [],
   "source": [
    "full_ids = df_full['paper_id'].unique().tolist()\n",
    "nb_full = len(full_ids)"
   ]
  },
  {
   "cell_type": "code",
   "execution_count": 394,
   "metadata": {},
   "outputs": [
    {
     "name": "stderr",
     "output_type": "stream",
     "text": [
      "100%|██████████| 1000/1000 [00:17<00:00, 55.73it/s]\n"
     ]
    },
    {
     "name": "stdout",
     "output_type": "stream",
     "text": [
      "var_e, 0.12, [-0.12, 0.11], pval=0.0190\n"
     ]
    },
    {
     "name": "stderr",
     "output_type": "stream",
     "text": [
      "100%|██████████| 1000/1000 [00:17<00:00, 56.26it/s]\n"
     ]
    },
    {
     "name": "stdout",
     "output_type": "stream",
     "text": [
      "var_i, 0.08, [-0.15, 0.09], pval=0.0450\n"
     ]
    },
    {
     "name": "stderr",
     "output_type": "stream",
     "text": [
      "100%|██████████| 1000/1000 [00:18<00:00, 53.91it/s]\n"
     ]
    },
    {
     "name": "stdout",
     "output_type": "stream",
     "text": [
      "var_r, 0.07, [-0.14, 0.16], pval=0.1790\n"
     ]
    },
    {
     "name": "stderr",
     "output_type": "stream",
     "text": [
      "100%|██████████| 1000/1000 [00:18<00:00, 54.60it/s]\n"
     ]
    },
    {
     "name": "stdout",
     "output_type": "stream",
     "text": [
      "var_d, 0.18, [-0.14, 0.12], pval=0.0010\n"
     ]
    }
   ],
   "source": [
    "from tqdm import trange\n",
    "\n",
    "np.random.seed(42)\n",
    "\n",
    "for col in [\n",
    "    'var_e',\n",
    "    'var_i',\n",
    "    'var_r',\n",
    "    'var_d',\n",
    "]:\n",
    "    tau_diff = []\n",
    "    for _ in trange(1000):\n",
    "        full_paper_ids = np.random.choice(data['paper_id'].unique(), nb_full, replace=False)\n",
    "\n",
    "        tau_full = compute_metric(get_stats(data.query('paper_id in @full_paper_ids')), col, 'psi_s', bootstrap=False, is_print=False)[0]\n",
    "        tau_rest = compute_metric(get_stats(data.query('paper_id not in @full_paper_ids')), col, 'psi_s', bootstrap=False, is_print=False)[0]\n",
    "        tau_diff.append(tau_full - tau_rest)\n",
    "\n",
    "    tau_full = compute_metric(get_stats(data.query('paper_id in @full_ids')), col, 'psi_s', bootstrap=False, is_print=False)[0]\n",
    "    tau_rest = compute_metric(get_stats(data.query('paper_id not in @full_ids')), col, 'psi_s', bootstrap=False, is_print=False)[0]\n",
    "\n",
    "    delta_tau = tau_full - tau_rest\n",
    "    tau_diff = np.array(tau_diff)\n",
    "    pval = (tau_diff > delta_tau).mean()\n",
    "    print(f\"{col}, {delta_tau:.2f}, [{np.quantile(tau_diff, 0.025):.2f}, {np.quantile(tau_diff, 0.975):.2f}], pval={pval:.4f}\")"
   ]
  },
  {
   "cell_type": "code",
   "execution_count": 395,
   "metadata": {},
   "outputs": [],
   "source": [
    "less_democratic_papers = combine(df_rest).groupby('paper_id').agg({\n",
    "    'country': list,\n",
    "    'political rights': 'mean'\n",
    "})\n",
    "less_democratic_papers = less_democratic_papers[less_democratic_papers['political rights'].lt(democratic['political rights'].median())]"
   ]
  },
  {
   "cell_type": "code",
   "execution_count": 396,
   "metadata": {},
   "outputs": [
    {
     "data": {
      "text/html": [
       "<div>\n",
       "<style scoped>\n",
       "    .dataframe tbody tr th:only-of-type {\n",
       "        vertical-align: middle;\n",
       "    }\n",
       "\n",
       "    .dataframe tbody tr th {\n",
       "        vertical-align: top;\n",
       "    }\n",
       "\n",
       "    .dataframe thead th {\n",
       "        text-align: right;\n",
       "    }\n",
       "</style>\n",
       "<table border=\"1\" class=\"dataframe\">\n",
       "  <thead>\n",
       "    <tr style=\"text-align: right;\">\n",
       "      <th></th>\n",
       "      <th>country</th>\n",
       "      <th>political rights</th>\n",
       "    </tr>\n",
       "    <tr>\n",
       "      <th>paper_id</th>\n",
       "      <th></th>\n",
       "      <th></th>\n",
       "    </tr>\n",
       "  </thead>\n",
       "  <tbody>\n",
       "    <tr>\n",
       "      <th>https://ojs.aaai.org/index.php/ICWSM/article/view/15064/14914</th>\n",
       "      <td>[CHN]</td>\n",
       "      <td>-2.000000</td>\n",
       "    </tr>\n",
       "    <tr>\n",
       "      <th>https://ojs.aaai.org/index.php/ICWSM/article/view/15071/14921</th>\n",
       "      <td>[SGP]</td>\n",
       "      <td>19.000000</td>\n",
       "    </tr>\n",
       "    <tr>\n",
       "      <th>https://ojs.aaai.org/index.php/ICWSM/article/view/19375/19147</th>\n",
       "      <td>[IRN, BGD, RUS, VEN, ARE]</td>\n",
       "      <td>6.000000</td>\n",
       "    </tr>\n",
       "    <tr>\n",
       "      <th>https://ojs.aaai.org/index.php/ICWSM/article/view/19378/19150</th>\n",
       "      <td>[BLR]</td>\n",
       "      <td>2.000000</td>\n",
       "    </tr>\n",
       "    <tr>\n",
       "      <th>https://ojs.aaai.org/index.php/ICWSM/article/view/19382/19154</th>\n",
       "      <td>[IND, PAK, RUS, BRA, COL]</td>\n",
       "      <td>22.800000</td>\n",
       "    </tr>\n",
       "    <tr>\n",
       "      <th>https://ojs.aaai.org/index.php/ICWSM/article/view/19384/19156</th>\n",
       "      <td>[QAT]</td>\n",
       "      <td>7.000000</td>\n",
       "    </tr>\n",
       "    <tr>\n",
       "      <th>https://ojs.aaai.org/index.php/ICWSM/article/view/19385/19157</th>\n",
       "      <td>[VEN, CHL]</td>\n",
       "      <td>19.500000</td>\n",
       "    </tr>\n",
       "    <tr>\n",
       "      <th>https://ojs.aaai.org/index.php/ICWSM/article/view/19401/19173</th>\n",
       "      <td>[CHN, USA, DEU]</td>\n",
       "      <td>23.333333</td>\n",
       "    </tr>\n",
       "    <tr>\n",
       "      <th>https://ojs.aaai.org/index.php/ICWSM/article/view/7349/7203</th>\n",
       "      <td>[SYR]</td>\n",
       "      <td>-3.000000</td>\n",
       "    </tr>\n",
       "    <tr>\n",
       "      <th>https://ojs.aaai.org/index.php/ICWSM/article/view/7353/7207</th>\n",
       "      <td>[USA, SYR, GBR]</td>\n",
       "      <td>23.000000</td>\n",
       "    </tr>\n",
       "  </tbody>\n",
       "</table>\n",
       "</div>"
      ],
      "text/plain": [
       "                                                                      country  \\\n",
       "paper_id                                                                        \n",
       "https://ojs.aaai.org/index.php/ICWSM/article/vi...                      [CHN]   \n",
       "https://ojs.aaai.org/index.php/ICWSM/article/vi...                      [SGP]   \n",
       "https://ojs.aaai.org/index.php/ICWSM/article/vi...  [IRN, BGD, RUS, VEN, ARE]   \n",
       "https://ojs.aaai.org/index.php/ICWSM/article/vi...                      [BLR]   \n",
       "https://ojs.aaai.org/index.php/ICWSM/article/vi...  [IND, PAK, RUS, BRA, COL]   \n",
       "https://ojs.aaai.org/index.php/ICWSM/article/vi...                      [QAT]   \n",
       "https://ojs.aaai.org/index.php/ICWSM/article/vi...                 [VEN, CHL]   \n",
       "https://ojs.aaai.org/index.php/ICWSM/article/vi...            [CHN, USA, DEU]   \n",
       "https://ojs.aaai.org/index.php/ICWSM/article/vi...                      [SYR]   \n",
       "https://ojs.aaai.org/index.php/ICWSM/article/vi...            [USA, SYR, GBR]   \n",
       "\n",
       "                                                    political rights  \n",
       "paper_id                                                              \n",
       "https://ojs.aaai.org/index.php/ICWSM/article/vi...         -2.000000  \n",
       "https://ojs.aaai.org/index.php/ICWSM/article/vi...         19.000000  \n",
       "https://ojs.aaai.org/index.php/ICWSM/article/vi...          6.000000  \n",
       "https://ojs.aaai.org/index.php/ICWSM/article/vi...          2.000000  \n",
       "https://ojs.aaai.org/index.php/ICWSM/article/vi...         22.800000  \n",
       "https://ojs.aaai.org/index.php/ICWSM/article/vi...          7.000000  \n",
       "https://ojs.aaai.org/index.php/ICWSM/article/vi...         19.500000  \n",
       "https://ojs.aaai.org/index.php/ICWSM/article/vi...         23.333333  \n",
       "https://ojs.aaai.org/index.php/ICWSM/article/vi...         -3.000000  \n",
       "https://ojs.aaai.org/index.php/ICWSM/article/vi...         23.000000  "
      ]
     },
     "execution_count": 396,
     "metadata": {},
     "output_type": "execute_result"
    }
   ],
   "source": [
    "less_democratic_papers"
   ]
  },
  {
   "cell_type": "markdown",
   "metadata": {},
   "source": [
    "# RQ3: Cross-country Authorships"
   ]
  },
  {
   "cell_type": "code",
   "execution_count": 397,
   "metadata": {},
   "outputs": [],
   "source": [
    "authors = pd.read_parquet('datasets/author-western.parquet')\n",
    "authors['url'] = authors['url'].str.replace('download', 'view')"
   ]
  },
  {
   "cell_type": "code",
   "execution_count": 398,
   "metadata": {},
   "outputs": [],
   "source": [
    "papers_weird = combine(data).groupby('paper_id').agg({\n",
    "    'west': 'mean',\n",
    "    'mean_edu': 'mean',\n",
    "    'cip': 'mean',\n",
    "    'gni': 'mean',\n",
    "    'political rights': 'mean'\n",
    "}).reset_index()"
   ]
  },
  {
   "cell_type": "code",
   "execution_count": 399,
   "metadata": {},
   "outputs": [
    {
     "data": {
      "text/html": [
       "<div>\n",
       "<style scoped>\n",
       "    .dataframe tbody tr th:only-of-type {\n",
       "        vertical-align: middle;\n",
       "    }\n",
       "\n",
       "    .dataframe tbody tr th {\n",
       "        vertical-align: top;\n",
       "    }\n",
       "\n",
       "    .dataframe thead th {\n",
       "        text-align: right;\n",
       "    }\n",
       "</style>\n",
       "<table border=\"1\" class=\"dataframe\">\n",
       "  <thead>\n",
       "    <tr style=\"text-align: right;\">\n",
       "      <th></th>\n",
       "      <th>mean_edu</th>\n",
       "      <th>cip</th>\n",
       "      <th>gni</th>\n",
       "      <th>political rights</th>\n",
       "      <th>nb_countries</th>\n",
       "    </tr>\n",
       "  </thead>\n",
       "  <tbody>\n",
       "    <tr>\n",
       "      <th>mean_edu</th>\n",
       "      <td>1.000000</td>\n",
       "      <td>0.687446</td>\n",
       "      <td>0.911021</td>\n",
       "      <td>0.613497</td>\n",
       "      <td>-0.104439</td>\n",
       "    </tr>\n",
       "    <tr>\n",
       "      <th>cip</th>\n",
       "      <td>0.687446</td>\n",
       "      <td>1.000000</td>\n",
       "      <td>0.716124</td>\n",
       "      <td>0.279801</td>\n",
       "      <td>-0.035514</td>\n",
       "    </tr>\n",
       "    <tr>\n",
       "      <th>gni</th>\n",
       "      <td>0.911021</td>\n",
       "      <td>0.716124</td>\n",
       "      <td>1.000000</td>\n",
       "      <td>0.451217</td>\n",
       "      <td>-0.059806</td>\n",
       "    </tr>\n",
       "    <tr>\n",
       "      <th>political rights</th>\n",
       "      <td>0.613497</td>\n",
       "      <td>0.279801</td>\n",
       "      <td>0.451217</td>\n",
       "      <td>1.000000</td>\n",
       "      <td>-0.162021</td>\n",
       "    </tr>\n",
       "    <tr>\n",
       "      <th>nb_countries</th>\n",
       "      <td>-0.104439</td>\n",
       "      <td>-0.035514</td>\n",
       "      <td>-0.059806</td>\n",
       "      <td>-0.162021</td>\n",
       "      <td>1.000000</td>\n",
       "    </tr>\n",
       "  </tbody>\n",
       "</table>\n",
       "</div>"
      ],
      "text/plain": [
       "                  mean_edu       cip       gni  political rights  nb_countries\n",
       "mean_edu          1.000000  0.687446  0.911021          0.613497     -0.104439\n",
       "cip               0.687446  1.000000  0.716124          0.279801     -0.035514\n",
       "gni               0.911021  0.716124  1.000000          0.451217     -0.059806\n",
       "political rights  0.613497  0.279801  0.451217          1.000000     -0.162021\n",
       "nb_countries     -0.104439 -0.035514 -0.059806         -0.162021      1.000000"
      ]
     },
     "execution_count": 399,
     "metadata": {},
     "output_type": "execute_result"
    }
   ],
   "source": [
    "paper_author = papers_weird.merge(authors, how='left', left_on='paper_id', right_on='url')\n",
    "paper_author[['mean_edu', 'cip', 'gni', 'political rights', 'nb_countries']].corr()"
   ]
  },
  {
   "cell_type": "code",
   "execution_count": 400,
   "metadata": {},
   "outputs": [],
   "source": [
    "paper_author.loc[paper_author['paper_id'].eq('https://ojs.aaai.org/index.php/ICWSM/article/view/19360/19132'), 'nb_countries'] = 1\n",
    "paper_author.loc[paper_author['paper_id'].eq('https://ojs.aaai.org/index.php/ICWSM/article/view/19360/19132'), 'western'] = 'Exclusively Western'\n",
    "paper_author.loc[paper_author['paper_id'].eq('https://ojs.aaai.org/index.php/ICWSM/article/view/19360/19132'), 'nb_authors'] = 2"
   ]
  },
  {
   "cell_type": "code",
   "execution_count": 401,
   "metadata": {},
   "outputs": [],
   "source": [
    "paper_author.loc[paper_author['paper_id'].eq('https://ojs.aaai.org/index.php/ICWSM/article/view/3247/3115'), 'nb_countries'] = 1\n",
    "paper_author.loc[paper_author['paper_id'].eq('https://ojs.aaai.org/index.php/ICWSM/article/view/3247/3115'), 'western'] = 'Exclusively non-Western'\n",
    "paper_author.loc[paper_author['paper_id'].eq('https://ojs.aaai.org/index.php/ICWSM/article/view/3247/3115'), 'nb_authors'] = 1"
   ]
  },
  {
   "cell_type": "code",
   "execution_count": 402,
   "metadata": {},
   "outputs": [
    {
     "name": "stdout",
     "output_type": "stream",
     "text": [
      "Mean nb authors = 4.0\n",
      "Std dev nb authors = 2.0\n"
     ]
    }
   ],
   "source": [
    "print(f\"Mean nb authors = {paper_author['nb_authors'].mean():.1f}\")\n",
    "print(f\"Std dev nb authors = {paper_author['nb_authors'].std():.1f}\")"
   ]
  },
  {
   "cell_type": "code",
   "execution_count": 403,
   "metadata": {},
   "outputs": [
    {
     "data": {
      "text/plain": [
       "43"
      ]
     },
     "execution_count": 403,
     "metadata": {},
     "output_type": "execute_result"
    }
   ],
   "source": [
    "paper_author['country_code'].explode().nunique()"
   ]
  },
  {
   "cell_type": "code",
   "execution_count": 404,
   "metadata": {},
   "outputs": [
    {
     "name": "stderr",
     "output_type": "stream",
     "text": [
      "/var/folders/0d/380dd3_d27v3p6p6m6nb230h0000gn/T/ipykernel_89504/2131706901.py:1: ParserWarning: Falling back to the 'python' engine because the 'c' engine does not support regex separators (separators > 1 char and different from '\\s+' are interpreted as regex); you can avoid this warning by specifying engine='python'.\n",
      "  iso_codes = pd.read_csv('datasets/iso_codes.tsv', sep='\\\\t')\n"
     ]
    }
   ],
   "source": [
    "iso_codes = pd.read_csv('datasets/iso_codes.tsv', sep='\\\\t')"
   ]
  },
  {
   "cell_type": "code",
   "execution_count": 405,
   "metadata": {},
   "outputs": [],
   "source": [
    "# TODO Check nan"
   ]
  },
  {
   "cell_type": "code",
   "execution_count": 406,
   "metadata": {},
   "outputs": [
    {
     "data": {
      "text/plain": [
       "23"
      ]
     },
     "execution_count": 406,
     "metadata": {},
     "output_type": "execute_result"
    }
   ],
   "source": [
    "pd.merge(\n",
    "    iso_codes[iso_codes['iso_code_2'].isin(paper_author['country_code'].explode().unique())].dropna(),\n",
    "    western,\n",
    "    how='left',\n",
    "    left_on='iso_code_3',\n",
    "    right_on='country'\n",
    ")['west'].sum()"
   ]
  },
  {
   "cell_type": "code",
   "execution_count": 407,
   "metadata": {},
   "outputs": [
    {
     "data": {
      "text/plain": [
       "0.7214285714285714"
      ]
     },
     "execution_count": 407,
     "metadata": {},
     "output_type": "execute_result"
    }
   ],
   "source": [
    "paper_author['nb_countries'].eq(1).mean()"
   ]
  },
  {
   "cell_type": "code",
   "execution_count": 408,
   "metadata": {},
   "outputs": [],
   "source": [
    "# paper_id = paper_author[paper_author['political rights'].isnull()].paper_id.iloc[0]\n",
    "# data[data['paper_id'].eq(paper_id)]\n",
    "# combine(data).query('paper_id == @paper_id')"
   ]
  },
  {
   "cell_type": "code",
   "execution_count": 409,
   "metadata": {},
   "outputs": [
    {
     "name": "stdout",
     "output_type": "stream",
     "text": [
      "-0.11 & [-0.20, -0.01] 0.028\n",
      "-0.03 & [-0.12, 0.07] 0.565\n",
      "-0.06 & [-0.16, 0.04] 0.224\n",
      "-0.16 & [-0.26, -0.07] 0.001\n"
     ]
    }
   ],
   "source": [
    "from scipy.stats import pearsonr\n",
    "\n",
    "pa = paper_author.dropna()\n",
    "for var in ['mean_edu', 'cip', 'gni', 'political rights']:\n",
    "    res = pearsonr(pa[var], pa['nb_countries'])\n",
    "    ci = res.confidence_interval(confidence_level=0.95)\n",
    "    print(f\"{res[0]:.2f} & [{ci[0]:.2f}, {ci[1]:.2f}] {res[1]:.3f}\")"
   ]
  },
  {
   "cell_type": "code",
   "execution_count": 410,
   "metadata": {},
   "outputs": [],
   "source": [
    "paper_ids = paper_author['paper_id'].unique().tolist()\n",
    "multiple_country_ids = paper_author[paper_author['nb_countries'].gt(1)].paper_id.to_list()\n",
    "nb_multiple_countries = paper_author[paper_author['nb_countries'].gt(1)].shape[0]"
   ]
  },
  {
   "cell_type": "code",
   "execution_count": 412,
   "metadata": {},
   "outputs": [
    {
     "name": "stdout",
     "output_type": "stream",
     "text": [
      "mean_edu, -0.01, [-0.14, 0.12], pval=0.4910\n",
      "cip, 0.10, [-0.15, 0.09], pval=0.0210\n",
      "gni, 0.06, [-0.14, 0.14], pval=0.2300\n",
      "political rights, -0.02, [-0.14, 0.11], pval=0.4810\n"
     ]
    }
   ],
   "source": [
    "np.random.seed(42)\n",
    "\n",
    "for col in [\n",
    "    'mean_edu',\n",
    "    'cip',\n",
    "    'gni',\n",
    "    'political rights'\n",
    "]:\n",
    "    tau_diff = []\n",
    "    for _ in range(1000):\n",
    "        multiple_ids = np.random.choice(paper_ids, nb_multiple_countries)\n",
    "\n",
    "        tau_multiple = compute_metric(get_stats(data.query('paper_id in @multiple_ids')), col, 'psi_s', bootstrap=False, is_print=False)[0]\n",
    "        tau_single = compute_metric(get_stats(data.query('paper_id not in @multiple_ids')), col, 'psi_s', bootstrap=False, is_print=False)[0]\n",
    "        tau_diff.append(tau_single - tau_multiple)\n",
    "\n",
    "    tau_multiple = compute_metric(get_stats(data.query('paper_id in @multiple_country_ids')), col, 'psi_s', bootstrap=False, is_print=False)[0]\n",
    "    tau_single = compute_metric(get_stats(data.query('paper_id not in @multiple_country_ids')), col, 'psi_s', bootstrap=False, is_print=False)[0]\n",
    "\n",
    "    delta_tau = tau_single - tau_multiple\n",
    "    tau_diff = np.array(tau_diff)\n",
    "    pval = (tau_diff >= delta_tau).mean()\n",
    "    print(f\"{col}, {delta_tau:.2f}, [{np.quantile(tau_diff, 0.025):.2f}, {np.quantile(tau_diff, 0.975):.2f}], pval={pval:.4f}\")"
   ]
  },
  {
   "cell_type": "code",
   "execution_count": 144,
   "metadata": {},
   "outputs": [],
   "source": [
    "def map_western(value):\n",
    "    if value == 0:\n",
    "        return \"Exclusively non-Western\"\n",
    "    elif value == 1:\n",
    "        return \"Exclusively Western\"\n",
    "    else:\n",
    "        return \"Mixed\""
   ]
  },
  {
   "cell_type": "code",
   "execution_count": 145,
   "metadata": {},
   "outputs": [],
   "source": [
    "paper_author['west_paper'] = paper_author['west'].apply(map_western)"
   ]
  },
  {
   "cell_type": "code",
   "execution_count": 146,
   "metadata": {},
   "outputs": [
    {
     "name": "stdout",
     "output_type": "stream",
     "text": [
      "Chi2ContingencyResult(statistic=23.862317118289628, pvalue=8.511402175606147e-05, dof=4, expected_freq=array([[122.60952381,  39.82857143, 165.56190476],\n",
      "       [ 16.07380952,   5.22142857,  21.7047619 ],\n",
      "       [ 18.31666667,   5.95      ,  24.73333333]]))\n",
      "\\begin{tabular}{lrrr}\n",
      "west_paper & Exclusively Western & Exclusively non-Western & Mixed \\\\\n",
      "western &  &  &  \\\\\n",
      "Exclusively Western & 41.8% & 8.8% & 49.4% \\\\\n",
      "Exclusively non-Western & 25.6% & 27.9% & 46.5% \\\\\n",
      "Mixed & 18.4% & 20.4% & 61.2% \\\\\n",
      "\\end{tabular}\n",
      "\n"
     ]
    }
   ],
   "source": [
    "from scipy.stats import chi2_contingency\n",
    "\n",
    "contingency = paper_author.pivot_table(\n",
    "    index='western',\n",
    "    columns='west_paper',\n",
    "    values='nb_authors',\n",
    "    aggfunc='count'\n",
    ")\n",
    "\n",
    "print(chi2_contingency(contingency))\n",
    "\n",
    "print(\n",
    "    contingency.divide(contingency.sum(axis=1), axis=0)\n",
    "    .style.format('{:.1%}')\n",
    "    .to_latex()\n",
    ")"
   ]
  },
  {
   "cell_type": "code",
   "execution_count": 60,
   "metadata": {},
   "outputs": [
    {
     "data": {
      "text/plain": [
       "['https://ojs.aaai.org/index.php/ICWSM/article/view/15064/14914',\n",
       " 'https://ojs.aaai.org/index.php/ICWSM/article/view/15071/14921',\n",
       " 'https://ojs.aaai.org/index.php/ICWSM/article/view/18053/17856',\n",
       " 'https://ojs.aaai.org/index.php/ICWSM/article/view/18079/17882',\n",
       " 'https://ojs.aaai.org/index.php/ICWSM/article/view/19277/19049',\n",
       " 'https://ojs.aaai.org/index.php/ICWSM/article/view/19348/19120',\n",
       " 'https://ojs.aaai.org/index.php/ICWSM/article/view/7281/7135']"
      ]
     },
     "execution_count": 60,
     "metadata": {},
     "output_type": "execute_result"
    }
   ],
   "source": [
    "less_democratic = paper_author[paper_author['nb_countries'].gt(2) & paper_author['political rights'].lt(democratic['political rights'].median())]\n",
    "less_democratic['paper_id'].to_list()"
   ]
  },
  {
   "cell_type": "code",
   "execution_count": 61,
   "metadata": {},
   "outputs": [
    {
     "data": {
      "text/plain": [
       "'https://ojs.aaai.org/index.php/ICWSM/article/view/7313/7167'"
      ]
     },
     "execution_count": 61,
     "metadata": {},
     "output_type": "execute_result"
    }
   ],
   "source": [
    "paper_author.loc[371, 'paper_id']"
   ]
  }
 ],
 "metadata": {
  "kernelspec": {
   "display_name": "Python 3.10.6 ('base')",
   "language": "python",
   "name": "python3"
  },
  "language_info": {
   "codemirror_mode": {
    "name": "ipython",
    "version": 3
   },
   "file_extension": ".py",
   "mimetype": "text/x-python",
   "name": "python",
   "nbconvert_exporter": "python",
   "pygments_lexer": "ipython3",
   "version": "3.10.6"
  },
  "orig_nbformat": 4,
  "vscode": {
   "interpreter": {
    "hash": "30da57fc12ca1efe86e9105f1e18096ab87461884377eada6651f178bbd2e26c"
   }
  }
 },
 "nbformat": 4,
 "nbformat_minor": 2
}
